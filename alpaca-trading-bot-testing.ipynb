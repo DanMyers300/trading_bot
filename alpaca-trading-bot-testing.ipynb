{
 "cells": [
  {
   "cell_type": "code",
   "execution_count": 1,
   "metadata": {},
   "outputs": [
    {
     "name": "stdout",
     "output_type": "stream",
     "text": [
      "Collecting alpaca-py\n",
      "  Downloading alpaca_py-0.8.2-py3-none-any.whl (96 kB)\n",
      "\u001b[2K     \u001b[90m━━━━━━━━━━━━━━━━━━━━━━━━━━━━━━━━━━━━━━━━\u001b[0m \u001b[32m96.8/96.8 kB\u001b[0m \u001b[31m3.5 MB/s\u001b[0m eta \u001b[36m0:00:00\u001b[0m\n",
      "\u001b[?25hCollecting msgpack<2.0.0,>=1.0.3 (from alpaca-py)\n",
      "  Downloading msgpack-1.0.5-cp310-cp310-manylinux_2_17_x86_64.manylinux2014_x86_64.whl (316 kB)\n",
      "\u001b[2K     \u001b[90m━━━━━━━━━━━━━━━━━━━━━━━━━━━━━━━━━━━━━━\u001b[0m \u001b[32m316.8/316.8 kB\u001b[0m \u001b[31m13.1 MB/s\u001b[0m eta \u001b[36m0:00:00\u001b[0m\n",
      "\u001b[?25hCollecting pandas<2.0.0,>=1.3.5 (from alpaca-py)\n",
      "  Downloading pandas-1.5.3-cp310-cp310-manylinux_2_17_x86_64.manylinux2014_x86_64.whl (12.1 MB)\n",
      "\u001b[2K     \u001b[90m━━━━━━━━━━━━━━━━━━━━━━━━━━━━━━━━━━━━━━━━\u001b[0m \u001b[32m12.1/12.1 MB\u001b[0m \u001b[31m61.0 MB/s\u001b[0m eta \u001b[36m0:00:00\u001b[0m00:01\u001b[0m00:01\u001b[0m\n",
      "\u001b[?25hCollecting pydantic<2.0.0,>=1.9.0 (from alpaca-py)\n",
      "  Downloading pydantic-1.10.8-cp310-cp310-manylinux_2_17_x86_64.manylinux2014_x86_64.whl (3.1 MB)\n",
      "\u001b[2K     \u001b[90m━━━━━━━━━━━━━━━━━━━━━━━━━━━━━━━━━━━━━━━━\u001b[0m \u001b[32m3.1/3.1 MB\u001b[0m \u001b[31m60.3 MB/s\u001b[0m eta \u001b[36m0:00:00\u001b[0m:00:01\u001b[0m\n",
      "\u001b[?25hRequirement already satisfied: requests<3.0.0,>=2.27.1 in /home/codespace/.local/lib/python3.10/site-packages (from alpaca-py) (2.28.2)\n",
      "Collecting sseclient-py<2.0.0,>=1.7.2 (from alpaca-py)\n",
      "  Downloading sseclient_py-1.7.2-py2.py3-none-any.whl (8.4 kB)\n",
      "Collecting websockets<11.0,>=10.2 (from alpaca-py)\n",
      "  Downloading websockets-10.4-cp310-cp310-manylinux_2_5_x86_64.manylinux1_x86_64.manylinux_2_17_x86_64.manylinux2014_x86_64.whl (106 kB)\n",
      "\u001b[2K     \u001b[90m━━━━━━━━━━━━━━━━━━━━━━━━━━━━━━━━━━━━━━━\u001b[0m \u001b[32m106.8/106.8 kB\u001b[0m \u001b[31m6.5 MB/s\u001b[0m eta \u001b[36m0:00:00\u001b[0m\n",
      "\u001b[?25hRequirement already satisfied: python-dateutil>=2.8.1 in /home/codespace/.local/lib/python3.10/site-packages (from pandas<2.0.0,>=1.3.5->alpaca-py) (2.8.2)\n",
      "Requirement already satisfied: pytz>=2020.1 in /home/codespace/.local/lib/python3.10/site-packages (from pandas<2.0.0,>=1.3.5->alpaca-py) (2023.3)\n",
      "Requirement already satisfied: numpy>=1.21.0 in /home/codespace/.local/lib/python3.10/site-packages (from pandas<2.0.0,>=1.3.5->alpaca-py) (1.24.3)\n",
      "Requirement already satisfied: typing-extensions>=4.2.0 in /home/codespace/.local/lib/python3.10/site-packages (from pydantic<2.0.0,>=1.9.0->alpaca-py) (4.5.0)\n",
      "Requirement already satisfied: charset-normalizer<4,>=2 in /home/codespace/.local/lib/python3.10/site-packages (from requests<3.0.0,>=2.27.1->alpaca-py) (3.1.0)\n",
      "Requirement already satisfied: idna<4,>=2.5 in /home/codespace/.local/lib/python3.10/site-packages (from requests<3.0.0,>=2.27.1->alpaca-py) (3.4)\n",
      "Requirement already satisfied: urllib3<1.27,>=1.21.1 in /home/codespace/.local/lib/python3.10/site-packages (from requests<3.0.0,>=2.27.1->alpaca-py) (1.26.15)\n",
      "Requirement already satisfied: certifi>=2017.4.17 in /home/codespace/.local/lib/python3.10/site-packages (from requests<3.0.0,>=2.27.1->alpaca-py) (2022.12.7)\n",
      "Requirement already satisfied: six>=1.5 in /home/codespace/.local/lib/python3.10/site-packages (from python-dateutil>=2.8.1->pandas<2.0.0,>=1.3.5->alpaca-py) (1.16.0)\n",
      "Installing collected packages: sseclient-py, msgpack, websockets, pydantic, pandas, alpaca-py\n",
      "  Attempting uninstall: pandas\n",
      "    Found existing installation: pandas 2.0.1\n",
      "    Uninstalling pandas-2.0.1:\n",
      "      Successfully uninstalled pandas-2.0.1\n",
      "Successfully installed alpaca-py-0.8.2 msgpack-1.0.5 pandas-1.5.3 pydantic-1.10.8 sseclient-py-1.7.2 websockets-10.4\n",
      "\n",
      "\u001b[1m[\u001b[0m\u001b[34;49mnotice\u001b[0m\u001b[1;39;49m]\u001b[0m\u001b[39;49m A new release of pip is available: \u001b[0m\u001b[31;49m23.1.1\u001b[0m\u001b[39;49m -> \u001b[0m\u001b[32;49m23.1.2\u001b[0m\n",
      "\u001b[1m[\u001b[0m\u001b[34;49mnotice\u001b[0m\u001b[1;39;49m]\u001b[0m\u001b[39;49m To update, run: \u001b[0m\u001b[32;49mpip install --upgrade pip\u001b[0m\n",
      "Note: you may need to restart the kernel to use updated packages.\n",
      "Collecting python-dotenv\n",
      "  Downloading python_dotenv-1.0.0-py3-none-any.whl (19 kB)\n",
      "Installing collected packages: python-dotenv\n",
      "Successfully installed python-dotenv-1.0.0\n",
      "\n",
      "\u001b[1m[\u001b[0m\u001b[34;49mnotice\u001b[0m\u001b[1;39;49m]\u001b[0m\u001b[39;49m A new release of pip is available: \u001b[0m\u001b[31;49m23.1.1\u001b[0m\u001b[39;49m -> \u001b[0m\u001b[32;49m23.1.2\u001b[0m\n",
      "\u001b[1m[\u001b[0m\u001b[34;49mnotice\u001b[0m\u001b[1;39;49m]\u001b[0m\u001b[39;49m To update, run: \u001b[0m\u001b[32;49mpip install --upgrade pip\u001b[0m\n",
      "Note: you may need to restart the kernel to use updated packages.\n"
     ]
    }
   ],
   "source": [
    "%pip install alpaca-py\n",
    "%pip install python-dotenv"
   ]
  },
  {
   "cell_type": "code",
   "execution_count": 2,
   "metadata": {},
   "outputs": [
    {
     "data": {
      "text/plain": [
       "True"
      ]
     },
     "execution_count": 2,
     "metadata": {},
     "output_type": "execute_result"
    }
   ],
   "source": [
    "import os\n",
    "from dotenv import load_dotenv\n",
    "load_dotenv()"
   ]
  },
  {
   "cell_type": "code",
   "execution_count": 8,
   "metadata": {},
   "outputs": [],
   "source": [
    "API_KEY = os.getenv('API_KEY')\n",
    "SECRET_KEY = os.getenv('SECRET_KEY')\n",
    "\n",
    "from alpaca.trading.client import TradingClient\n",
    "trading_client = TradingClient(API_KEY, SECRET_KEY, paper=True)"
   ]
  },
  {
   "cell_type": "code",
   "execution_count": 9,
   "metadata": {},
   "outputs": [
    {
     "name": "stdout",
     "output_type": "stream",
     "text": [
      "\"id\": 348e1d04-c647-4848-a532-34f66ac941ae\n",
      "\"account_number\": 925273304\n",
      "\"status\": ACTIVE\n",
      "\"crypto_status\": INACTIVE\n",
      "\"currency\": USD\n",
      "\"buying_power\": 0\n",
      "\"regt_buying_power\": 0\n",
      "\"daytrading_buying_power\": 0\n",
      "\"non_marginable_buying_power\": 0\n",
      "\"cash\": 0\n",
      "\"accrued_fees\": 0\n",
      "\"pending_transfer_out\": None\n",
      "\"pending_transfer_in\": 0\n",
      "\"portfolio_value\": 0\n",
      "\"pattern_day_trader\": False\n",
      "\"trading_blocked\": False\n",
      "\"transfers_blocked\": False\n",
      "\"account_blocked\": False\n",
      "\"created_at\": 2022-12-11 20:30:47.389459+00:00\n",
      "\"trade_suspended_by_user\": False\n",
      "\"multiplier\": 1\n",
      "\"shorting_enabled\": False\n",
      "\"equity\": 0\n",
      "\"last_equity\": 0\n",
      "\"long_market_value\": 0\n",
      "\"short_market_value\": 0\n",
      "\"initial_margin\": 0\n",
      "\"maintenance_margin\": 0\n",
      "\"last_maintenance_margin\": 0\n",
      "\"sma\": 0\n",
      "\"daytrade_count\": 0\n"
     ]
    }
   ],
   "source": [
    "account = trading_client.get_account()\n",
    "for property_name, value in account:\n",
    "  print(f\"\\\"{property_name}\\\": {value}\")"
   ]
  },
  {
   "cell_type": "code",
   "execution_count": null,
   "metadata": {},
   "outputs": [],
   "source": [
    "from alpaca.trading.requests import MarketOrderRequest\n",
    "from alpaca.trading.enums import OrderSide, TimeInForce\n",
    "\n",
    "# Setting parameters for our buy order\n",
    "market_order_data = MarketOrderRequest(\n",
    "                      symbol=\"BTC/USD\",\n",
    "                      qty=1,\n",
    "                      side=OrderSide.BUY,\n",
    "                      time_in_force=TimeInForce.GTC\n",
    "                  )"
   ]
  },
  {
   "cell_type": "code",
   "execution_count": null,
   "metadata": {},
   "outputs": [],
   "source": [
    "# Submitting the order and then printing the returned object\n",
    "market_order = trading_client.submit_order(market_order_data)\n",
    "for property_name, value in market_order:\n",
    "  print(f\"\\\"{property_name}\\\": {value}\")"
   ]
  },
  {
   "cell_type": "code",
   "execution_count": null,
   "metadata": {},
   "outputs": [],
   "source": [
    "# Get all open positions and print each of them\n",
    "positions = trading_client.get_all_positions()\n",
    "for position in positions:\n",
    "    for property_name, value in position:\n",
    "        print(f\"\\\"{property_name}\\\": {value}\")"
   ]
  }
 ],
 "metadata": {
  "kernelspec": {
   "display_name": "Python 3",
   "language": "python",
   "name": "python3"
  },
  "language_info": {
   "codemirror_mode": {
    "name": "ipython",
    "version": 3
   },
   "file_extension": ".py",
   "mimetype": "text/x-python",
   "name": "python",
   "nbconvert_exporter": "python",
   "pygments_lexer": "ipython3",
   "version": "3.10.4"
  },
  "orig_nbformat": 4
 },
 "nbformat": 4,
 "nbformat_minor": 2
}
